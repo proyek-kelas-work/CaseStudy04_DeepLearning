{
 "cells": [
  {
   "cell_type": "code",
   "execution_count": 36,
   "id": "66df7e76-1cea-4baf-833d-a344cf94893e",
   "metadata": {
    "tags": []
   },
   "outputs": [],
   "source": [
    "# necessary libraries\n",
    "import keras\n",
    "from tensorflow.keras.preprocessing.image import ImageDataGenerator\n",
    "import matplotlib.pyplot as plt\n",
    "from keras import layers\n",
    "from keras import models\n",
    "from keras import optimizers\n",
    "\n",
    "from keras.models import Model, Sequential\n",
    "from keras import layers\n",
    "\n",
    "import tensorflow as tf"
   ]
  },
  {
   "cell_type": "code",
   "execution_count": 37,
   "id": "65c911b8-c34e-4578-88f5-27788a178e2c",
   "metadata": {
    "tags": []
   },
   "outputs": [],
   "source": [
    "# no need to execute this for me , i already execute it and i have folders of train and valitons sets\n",
    "import os\n",
    "import shutil\n",
    "import pandas as pd\n",
    "import random\n",
    "\n",
    "# /kaggle/input/butterfly-image-classification/train/Image_4378.jpg'\n",
    "\n",
    "# Read the CSV file (assuming the columns are named \"filename\" and \"label\" by default)\n",
    "csv_file_path = \"C:/Users/MaestroCom/proyek kelas work/Training_set.csv\"\n",
    "data = pd.read_csv(csv_file_path)\n",
    "\n",
    "# Creating train and validation directories\n",
    "root_directory = \"kaggle/input\"  # Replace with your root directory name\n",
    "\n",
    "image_dir=\"C:/Users/MaestroCom/proyek kelas work/train\" \n",
    "\n",
    "train_directory = os.path.join(root_directory, \"train\")\n",
    "val_directory = os.path.join(root_directory, \"validation\")\n",
    "\n",
    "os.makedirs(train_directory, exist_ok=True)\n",
    "os.makedirs(val_directory, exist_ok=True)\n",
    "\n",
    "# Creating label directories\n",
    "labels = data[\"label\"].value_counts().index\n",
    "\n",
    "\n",
    "for label in labels:\n",
    "    label_train_directory = os.path.join(train_directory, label)\n",
    "    label_val_directory = os.path.join(val_directory, label)\n",
    "    os.makedirs(label_train_directory, exist_ok=True)\n",
    "    os.makedirs(label_val_directory, exist_ok=True)\n",
    "\n",
    "# Shuffle the data\n",
    "data = data.sample(frac=1).reset_index(drop=True)\n",
    "# Split the data into 70% train and 30% validation\n",
    "val_data_count = int(len(data) * 0.3)\n",
    "validation_data = data[:val_data_count]\n",
    "train_data = data[val_data_count:]\n",
    "\n",
    "\n",
    "# Copy train data\n",
    "for index, row in train_data.iterrows():\n",
    "\n",
    "    # file name \n",
    "    file_name = row['filename']\n",
    "    # label name\n",
    "    label = row[\"label\"]\n",
    "\n",
    "    # images folder , all images are in here  \n",
    "    source_path = os.path.join(image_dir,file_name) #\n",
    "    # new destination\n",
    "    destination_directory = os.path.join(train_directory, label)\n",
    "    # copy files\n",
    "    shutil.copy(source_path, destination_directory)\n",
    "   \n",
    "    \n",
    "# Copy validation data\n",
    "for index, row in validation_data.iterrows():\n",
    " \n",
    "    file_name = row['filename']\n",
    "    label = row['label']\n",
    "    \n",
    "    source_path = os.path.join(image_dir, file_name)\n",
    "    destination_directory = os.path.join(val_directory, label)\n",
    "    shutil.copy(source_path, destination_directory)"
   ]
  },
  {
   "cell_type": "code",
   "execution_count": 45,
   "id": "1d072610-5c52-43f3-aa0d-a57c2c49f0f1",
   "metadata": {
    "tags": []
   },
   "outputs": [
    {
     "data": {
      "text/plain": [
       "['Image_1029.jpg',\n",
       " 'Image_1199.jpg',\n",
       " 'Image_1328.jpg',\n",
       " 'Image_1361.jpg',\n",
       " 'Image_1388.jpg']"
      ]
     },
     "execution_count": 45,
     "metadata": {},
     "output_type": "execute_result"
    }
   ],
   "source": [
    "#C:/Users/MaestroCom/proyek kelas work\n",
    "#os.listdir(\"C:/Users/MaestroCom/proyek kelas work/train/POPINJAY\")[:5]\n",
    "os.listdir(\"C:/Users/MaestroCom/proyek kelas work/train/POPINJAY\")[:5]"
   ]
  },
  {
   "cell_type": "code",
   "execution_count": 47,
   "id": "d66eddfe-de99-442b-b376-c9a47136c942",
   "metadata": {
    "tags": []
   },
   "outputs": [
    {
     "ename": "FileNotFoundError",
     "evalue": "[WinError 3] The system cannot find the path specified: 'C:/Users/MaestroCom/proyek kelas worK/validation.POPINJAY'",
     "output_type": "error",
     "traceback": [
      "\u001b[1;31m---------------------------------------------------------------------------\u001b[0m",
      "\u001b[1;31mFileNotFoundError\u001b[0m                         Traceback (most recent call last)",
      "Cell \u001b[1;32mIn[47], line 1\u001b[0m\n\u001b[1;32m----> 1\u001b[0m os\u001b[38;5;241m.\u001b[39mlistdir(\u001b[38;5;124m\"\u001b[39m\u001b[38;5;124mC:/Users/MaestroCom/proyek kelas worK/validation.POPINJAY\u001b[39m\u001b[38;5;124m\"\u001b[39m)[:\u001b[38;5;241m5\u001b[39m]\n",
      "\u001b[1;31mFileNotFoundError\u001b[0m: [WinError 3] The system cannot find the path specified: 'C:/Users/MaestroCom/proyek kelas worK/validation.POPINJAY'"
     ]
    }
   ],
   "source": [
    "os.listdir(\"C:/Users/MaestroCom/proyek kelas worK/validation.POPINJAY\")[:5]"
   ]
  },
  {
   "cell_type": "code",
   "execution_count": null,
   "id": "5d5ab876-214e-4a80-a446-6cc5d0be52ca",
   "metadata": {},
   "outputs": [],
   "source": []
  },
  {
   "cell_type": "code",
   "execution_count": null,
   "id": "171b4e44-c7e2-4ae0-8f5c-4794321416a6",
   "metadata": {},
   "outputs": [],
   "source": []
  }
 ],
 "metadata": {
  "kernelspec": {
   "display_name": "Python 3 (ipykernel)",
   "language": "python",
   "name": "python3"
  },
  "language_info": {
   "codemirror_mode": {
    "name": "ipython",
    "version": 3
   },
   "file_extension": ".py",
   "mimetype": "text/x-python",
   "name": "python",
   "nbconvert_exporter": "python",
   "pygments_lexer": "ipython3",
   "version": "3.11.7"
  }
 },
 "nbformat": 4,
 "nbformat_minor": 5
}
